{
 "cells": [
  {
   "cell_type": "markdown",
   "metadata": {},
   "source": [
    "## Linear Regression using sklearn dataset"
   ]
  },
  {
   "cell_type": "code",
   "execution_count": 10,
   "metadata": {},
   "outputs": [],
   "source": [
    "#import the libraries\n",
    "import matplotlib.pyplot as plt\n",
    "import numpy as np\n",
    "import pandas as pd\n",
    "%matplotlib inline\n",
    "from sklearn.linear_model import LinearRegression\n",
    "from sklearn import datasets"
   ]
  },
  {
   "cell_type": "code",
   "execution_count": 3,
   "metadata": {},
   "outputs": [],
   "source": [
    "diabetes = datasets.load_diabetes()"
   ]
  },
  {
   "cell_type": "code",
   "execution_count": 5,
   "metadata": {},
   "outputs": [
    {
     "data": {
      "text/plain": [
       "['age', 'sex', 'bmi', 'bp', 's1', 's2', 's3', 's4', 's5', 's6']"
      ]
     },
     "execution_count": 5,
     "metadata": {},
     "output_type": "execute_result"
    }
   ],
   "source": [
    "diabetes.feature_names"
   ]
  },
  {
   "cell_type": "code",
   "execution_count": 9,
   "metadata": {},
   "outputs": [
    {
     "data": {
      "text/plain": [
       "(442, 10)"
      ]
     },
     "execution_count": 9,
     "metadata": {},
     "output_type": "execute_result"
    }
   ],
   "source": [
    "diabetes.data.shape"
   ]
  },
  {
   "cell_type": "code",
   "execution_count": 16,
   "metadata": {},
   "outputs": [],
   "source": [
    "diabetes_df = pd.DataFrame(diabetes.data, columns=diabetes.feature_names)"
   ]
  },
  {
   "cell_type": "code",
   "execution_count": 19,
   "metadata": {},
   "outputs": [],
   "source": [
    "diabetes_df['target'] = diabetes.target "
   ]
  },
  {
   "cell_type": "code",
   "execution_count": 21,
   "metadata": {},
   "outputs": [
    {
     "data": {
      "text/plain": [
       "(442, 11)"
      ]
     },
     "execution_count": 21,
     "metadata": {},
     "output_type": "execute_result"
    }
   ],
   "source": [
    "diabetes_df.shape"
   ]
  },
  {
   "cell_type": "markdown",
   "metadata": {},
   "source": [
    "Linear Regression assumes the following model:\n",
    "\n",
    "y=Xβ+c+ϵ \n",
    "\n",
    "X data \n",
    "\n",
    "β  coefficients \n",
    "\n",
    "c intercept \n",
    "\n",
    "ϵ  error, cannot explained by model \n",
    "\n",
    "y target \n",
    "\n",
    "Using scikit-learn, linear regression is very easy:"
   ]
  },
  {
   "cell_type": "code",
   "execution_count": 24,
   "metadata": {},
   "outputs": [],
   "source": [
    "# Sperate train and test data\n",
    "from sklearn.model_selection import train_test_split\n",
    "X_train, X_test, y_train, y_test = train_test_split(diabetes_df[diabetes.feature_names], diabetes_df['target'], test_size=0.3, random_state=0)"
   ]
  },
  {
   "cell_type": "code",
   "execution_count": 30,
   "metadata": {},
   "outputs": [
    {
     "data": {
      "text/plain": [
       "0.39289398450747565"
      ]
     },
     "execution_count": 30,
     "metadata": {},
     "output_type": "execute_result"
    }
   ],
   "source": [
    "# There are three steps to model something with sklearn\n",
    "# 1. Set up the model\n",
    "model = LinearRegression()\n",
    "# 2. Use fit\n",
    "model.fit(X_train, y_train)\n",
    "# 3. Check the score\n",
    "model.score(X_test, y_test)"
   ]
  },
  {
   "cell_type": "code",
   "execution_count": 31,
   "metadata": {},
   "outputs": [
    {
     "data": {
      "text/plain": [
       "array([ -52.46990775, -193.51064552,  579.4827762 ,  272.46404234,\n",
       "       -504.72401371,  241.68441866,  -69.73618783,   86.62018451,\n",
       "        721.95580222,   26.77887028])"
      ]
     },
     "execution_count": 31,
     "metadata": {},
     "output_type": "execute_result"
    }
   ],
   "source": [
    "model.coef_"
   ]
  },
  {
   "cell_type": "code",
   "execution_count": 32,
   "metadata": {},
   "outputs": [
    {
     "data": {
      "text/plain": [
       "153.71914540545853"
      ]
     },
     "execution_count": 32,
     "metadata": {},
     "output_type": "execute_result"
    }
   ],
   "source": [
    "model.intercept_"
   ]
  },
  {
   "cell_type": "code",
   "execution_count": 33,
   "metadata": {},
   "outputs": [
    {
     "data": {
      "text/plain": [
       "array([239.6785766 , 250.53141737, 164.84805461, 120.27678545,\n",
       "       181.73395543, 262.21230671, 112.23276599, 191.94646405,\n",
       "       151.50037962, 236.97547898, 172.17106886, 181.76776675,\n",
       "       112.11718447,  93.10535397, 242.61551546,  91.18854011,\n",
       "       153.66210217,  64.67732159,  99.36843868, 212.25939578,\n",
       "       197.03895856, 162.46443162, 164.14281795, 157.73824133,\n",
       "       207.25537379, 170.20342369, 111.97456707,  82.77243482,\n",
       "       186.91705702, 164.72179002, 175.37310208,  82.34780886,\n",
       "       144.28954965, 149.22361436, 144.09115907, 194.25825855,\n",
       "       166.52462404, 188.10488874, 126.97750787, 205.91826796,\n",
       "        85.53348753, 167.78356048, 147.74549209, 183.84581135,\n",
       "       177.14794619,  71.92344074, 139.84126287, 139.03021418,\n",
       "       125.12177811, 231.42294135, 163.79584007,  78.92939231,\n",
       "       151.43859067, 159.59729648, 237.28907635, 176.12271938,\n",
       "       191.69740342, 118.93503631, 131.10139145, 174.80265252,\n",
       "       216.57324581, 169.87858747, 156.38305845, 113.57344508,\n",
       "       261.96459935, 155.5688548 ,  84.32840048, 228.12498242,\n",
       "       208.51229775,  46.19025943,  76.55977912, 133.97092372,\n",
       "       108.91547153, 143.46905811, 134.31324118, 190.25053507,\n",
       "       103.86529131, 203.62660531, 222.35301212, 189.44972403,\n",
       "       148.80957207, 210.15484759,  46.69167831, 208.0703178 ,\n",
       "        82.2849209 ,  94.17772368, 147.58659275, 197.16861909,\n",
       "       133.35711356, 148.69237763,  98.63749215, 125.15022037,\n",
       "        84.58243456, 153.18312111, 123.59604696, 104.1937366 ,\n",
       "       237.72305796, 224.13995865, 129.89494832, 166.37194524,\n",
       "       193.26747468, 112.19398008, 208.54905555,  84.2206551 ,\n",
       "       217.62552861, 112.38375349, 225.37453456, 270.15021337,\n",
       "       115.82962894, 115.82859442, 196.13824099, 121.02331185,\n",
       "       175.04883143, 103.77034839,  98.52799319, 224.83511832,\n",
       "       237.98041164, 115.5341465 , 294.28289566, 115.71236099,\n",
       "       131.16053877, 115.42422204,  66.90331418, 245.86735403,\n",
       "       102.70400111, 123.62547679, 206.333561  , 187.03151682,\n",
       "       195.68456817, 165.03910148, 193.77497659, 112.03733039,\n",
       "       172.34904863])"
      ]
     },
     "execution_count": 33,
     "metadata": {},
     "output_type": "execute_result"
    }
   ],
   "source": [
    "model.predict(X_test)"
   ]
  },
  {
   "cell_type": "code",
   "execution_count": 34,
   "metadata": {},
   "outputs": [
    {
     "data": {
      "image/png": "[encoded data removed]",
      "text/plain": [
       "<Figure size 432x288 with 1 Axes>"
      ]
     },
     "metadata": {
      "needs_background": "light"
     },
     "output_type": "display_data"
    }
   ],
   "source": [
    "# plot prediction and actual data\n",
    "y_pred = model.predict(X_test) \n",
    "plt.plot(y_test, y_pred, '.')\n",
    "\n",
    "# plot a line, a perfit predict would all fall on this line\n",
    "x = np.linspace(0, 330, 100)\n",
    "y = x\n",
    "plt.plot(x, y)\n",
    "plt.show()"
   ]
  },
  {
   "cell_type": "code",
   "execution_count": 36,
   "metadata": {},
   "outputs": [],
   "source": [
    "datasets.load_diabetes?"
   ]
  },
  {
   "cell_type": "code",
   "execution_count": null,
   "metadata": {},
   "outputs": [],
   "source": []
  }
 ],
 "metadata": {
  "kernelspec": {
   "display_name": "Python 3",
   "language": "python",
   "name": "python3"
  },
  "language_info": {
   "codemirror_mode": {
    "name": "ipython",
    "version": 3
   },
   "file_extension": ".py",
   "mimetype": "text/x-python",
   "name": "python",
   "nbconvert_exporter": "python",
   "pygments_lexer": "ipython3",
   "version": "3.7.0"
  }
 },
 "nbformat": 4,
 "nbformat_minor": 2
}
